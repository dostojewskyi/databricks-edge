{
 "cells": [
  {
   "cell_type": "code",
   "execution_count": null,
   "metadata": {
    "collapsed": true
   },
   "outputs": [],
   "source": [
    "import pickle\n",
    "import sys\n",
    "\n",
    "def inference(*args):\n",
    "\n",
    "    inp = [float(i) for i in args]\n",
    "    print(f'input values are: {inp}')\n",
    "    loaded_model = pickle.load(open(\"python_model.pkl\", 'rb'))\n",
    "    inf= loaded_model.predict(context=None, model_input=[inp])\n",
    "    print(f'inferenced value is: {inf}')\n",
    "\n",
    "if __name__ == '__main__':\n",
    "    inference(sys.argv[1],sys.argv[2],sys.argv[3],sys.argv[4])\n"
   ]
  }
 ],
 "metadata": {
  "kernelspec": {
   "display_name": "Python 3",
   "language": "python",
   "name": "python3"
  },
  "language_info": {
   "codemirror_mode": {
    "name": "ipython",
    "version": 2
   },
   "file_extension": ".py",
   "mimetype": "text/x-python",
   "name": "python",
   "nbconvert_exporter": "python",
   "pygments_lexer": "ipython2",
   "version": "2.7.6"
  }
 },
 "nbformat": 4,
 "nbformat_minor": 0
}
