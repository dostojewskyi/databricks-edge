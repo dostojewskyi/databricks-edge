{
 "cells": [
  {
   "cell_type": "markdown",
   "source": [
    "most of this is a random classification on IRIS data. Also the MlFlow Experiment and Runs, incl. Registration of Models can be handled differently, but complete the target of a e2e ml project in databricks /aml"
   ],
   "metadata": {
    "collapsed": false
   }
  },
  {
   "cell_type": "code",
   "execution_count": null,
   "outputs": [],
   "source": [
    "%pip install mlflow\n",
    "!pip install sklearn\n",
    "!pip instal pandas\n",
    "!pip install azureml-core\n",
    "%pip install onnxmltools\n",
    "%pip install onnxruntime\n",
    "%pip install skl2onnx\n"
   ],
   "metadata": {
    "collapsed": false
   }
  },
  {
   "cell_type": "code",
   "execution_count": null,
   "outputs": [],
   "source": [
    "from sklearn.datasets import load_iris\n",
    "from sklearn.model_selection import train_test_split\n",
    "import mlflow.pyfunc\n",
    "import numpy as np\n",
    "import sklearn\n",
    "from sklearn.ensemble import RandomForestClassifier\n",
    "from mlflow.models.signature import infer_signature\n",
    "from mlflow.utils.environment import _mlflow_conda_env\n",
    "import cloudpickle\n",
    "import time\n",
    "from skl2onnx import convert_sklearn\n",
    "from skl2onnx.common.data_types import FloatTensorType\n",
    "from skl2onnx import get_latest_tested_opset_version\n",
    "from onnxmltools.utils import save_model\n"
   ],
   "metadata": {
    "collapsed": false
   }
  },
  {
   "cell_type": "code",
   "execution_count": null,
   "outputs": [],
   "source": [
    "iris = load_iris()\n",
    "X, y = iris.data, iris.target\n",
    "X_train, X_test, y_train, y_test = train_test_split(X, y)\n"
   ],
   "metadata": {
    "collapsed": false
   }
  },
  {
   "cell_type": "code",
   "execution_count": null,
   "outputs": [],
   "source": [
    "class SklearnModelWrapper(mlflow.pyfunc.PythonModel):\n",
    "  def __init__(self, model):\n",
    "    self.model = model\n",
    "\n",
    "  def predict(self, context, model_input):\n",
    "    return self.model.predict_proba(model_input)[:,1]\n",
    "\n",
    "with mlflow.start_run(run_name='edge_run') as run:\n",
    "    #n_estimators = 10\n",
    "    model = RandomForestClassifier(random_state=np.random.RandomState(188453))\n",
    "    model.fit(X_train, y_train)\n",
    "\n",
    "    target_opset = get_latest_tested_opset_version()\n",
    "    n_features = X_train.shape[1]\n",
    "    onnx_clf = convert_sklearn(\n",
    "        model,\n",
    "        \"edge_job\",\n",
    "        initial_types=[(\"input\", FloatTensorType([None, n_features]))],\n",
    "        target_opset={\"\": target_opset, \"ai.onnx.ml\": 1}\n",
    "    )\n",
    "    save_model(onnx_clf, \"model.onnx\")\n",
    "\n",
    "    predictions_test = model.predict_proba(X_test)[:,1]\n",
    "\n",
    "    wrappedModel = SklearnModelWrapper(model)\n",
    "\n",
    "    signature = infer_signature(X_train, wrappedModel.predict(None, X_train))\n",
    "\n",
    "    conda_env =  _mlflow_conda_env(\n",
    "        additional_conda_deps=None,\n",
    "        additional_pip_deps=[\"cloudpickle=={}\".format(cloudpickle.__version__), \"scikit-learn=={}\".format(sklearn.__version__)],\n",
    "        additional_conda_channels=None,\n",
    "    )\n",
    "    run_id = run.info.run_id\n",
    "\n",
    "    mlflow.pyfunc.log_model(\"edge_model\", python_model=wrappedModel, conda_env=conda_env, signature=signature)\n",
    "    mlflow.end_run()\n"
   ],
   "metadata": {
    "collapsed": false
   }
  },
  {
   "cell_type": "code",
   "execution_count": null,
   "outputs": [],
   "source": [
    "mlflow.search_runs(filter_string=f'tags.mlflow.runName = \"edge_run\" and tags.mlflow.rootRunId = \"{run_id}\"')\n"
   ],
   "metadata": {
    "collapsed": false
   }
  },
  {
   "cell_type": "code",
   "execution_count": null,
   "outputs": [],
   "source": [
    "model_name = \"edge_iris\"\n",
    "model_version = mlflow.register_model(f\"runs:/{run_id}/edge_model\", model_name)\n",
    "\n",
    "time.sleep(15)\n"
   ],
   "metadata": {
    "collapsed": false
   }
  },
  {
   "cell_type": "markdown",
   "source": [
    "from here training the ML is done, we just prepare the tun script for the later inference."
   ],
   "metadata": {
    "collapsed": false
   }
  },
  {
   "cell_type": "code",
   "execution_count": null,
   "outputs": [],
   "source": [
    "import pickle\n",
    "\n",
    "def inference(inp):\n",
    "\n",
    "    loaded_model = pickle.load(open(\"python_model.pkl\", 'rb'))\n",
    "    print(loaded_model.predict(context=None, model_input=[inp]))\n",
    "\n",
    "if __name__ == '__main__':\n",
    "    inference((inp))\n"
   ],
   "metadata": {
    "collapsed": false
   }
  },
  {
   "cell_type": "code",
   "execution_count": null,
   "outputs": [],
   "source": [],
   "metadata": {
    "collapsed": false
   }
  }
 ],
 "metadata": {
  "kernelspec": {
   "display_name": "Python 3",
   "language": "python",
   "name": "python3"
  },
  "language_info": {
   "codemirror_mode": {
    "name": "ipython",
    "version": 2
   },
   "file_extension": ".py",
   "mimetype": "text/x-python",
   "name": "python",
   "nbconvert_exporter": "python",
   "pygments_lexer": "ipython2",
   "version": "2.7.6"
  }
 },
 "nbformat": 4,
 "nbformat_minor": 0
}
